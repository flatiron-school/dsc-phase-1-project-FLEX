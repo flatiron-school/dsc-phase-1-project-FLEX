{
 "cells": [
  {
   "cell_type": "markdown",
   "metadata": {},
   "source": [
    "# Phase 1 Project Overview - FLEX "
   ]
  },
  {
   "cell_type": "markdown",
   "metadata": {},
   "source": [
    "- 08/23/2021"
   ]
  },
  {
   "cell_type": "markdown",
   "metadata": {},
   "source": [
    "## Objectives"
   ]
  },
  {
   "cell_type": "markdown",
   "metadata": {},
   "source": [
    "- Review the Phase 1 Project README\n",
    "- Discuss some General Project Tips and Advice:\n",
    "    - Getting Started\n",
    "    - Business Case/Stakeholder\n",
    "    - The Data\n",
    "- Walk through Getting Started and coding a loop to preview all files. "
   ]
  },
  {
   "cell_type": "markdown",
   "metadata": {},
   "source": [
    "# 📖PHASE 1 PROJECT README"
   ]
  },
  {
   "cell_type": "markdown",
   "metadata": {},
   "source": [
    "## Phase 1 Project\n",
    "\n",
    "You've made it all the way through the first phase of this course - take a minute to celebrate your awesomeness!\n",
    "\n",
    "![awesome](https://raw.githubusercontent.com/learn-co-curriculum/dsc-phase-1-project/master/awesome.gif)\n",
    "\n",
    "Now you will put your new skills to use with a large end-of-Phase project! This project should take 20 to 30 hours to complete.\n",
    "\n",
    "### Project Overview\n",
    "\n",
    "For this project, you will use exploratory data analysis to generate insights for a business stakeholder.\n",
    "\n",
    "#### Business Problem\n",
    "\n",
    "Microsoft sees all the big companies creating original video content and they want to get in on the fun. They have decided to create a new movie studio, but they don’t know anything about creating movies. You are charged with exploring what types of films are currently doing the best at the box office. You must then translate those findings into actionable insights that the head of Microsoft's new movie studio can use to help decide what type of films to create.\n",
    "\n",
    "#### The Data\n",
    "\n",
    "In the folder `zippedData` are movie datasets from:\n",
    "\n",
    "* [Box Office Mojo](https://www.boxofficemojo.com/)\n",
    "* [IMDB](https://www.imdb.com/)\n",
    "* [Rotten Tomatoes](https://www.rottentomatoes.com/)\n",
    "* [TheMovieDB](https://www.themoviedb.org/)\n",
    "* [The Numbers](https://www.the-numbers.com/)\n",
    "\n",
    "It is up to you to decide what data from this to use and how to use it. If you want to make this more challenging, you can scrape websites or make API calls to get additional data. If you are feeling overwhelmed or behind (e.g. struggled with the Phase 1 Code Challenge), we recommend you use only the following data files:\n",
    "\n",
    "* imdb.title.basics\n",
    "* imdb.title.ratings\n",
    "* bom.movie_gross\n",
    "\n",
    "### Deliverables\n",
    "\n",
    "There are three deliverables for this project:\n",
    "\n",
    "* A **GitHub repository**\n",
    "* A **Jupyter Notebook**\n",
    "* A **non-technical presentation**\n",
    "\n",
    "Review the \"Project Submission & Review\" page in the \"Milestones Instructions\" topic for instructions on creating and submitting your deliverables. Refer to the rubric associated with this assignment for specifications describing high-quality deliverables.\n",
    "\n",
    "#### Key Points\n",
    "\n",
    "* **Your analysis should yield three concrete business recommendations.** The ultimate purpose of exploratory analysis is not just to learn about the data, but to help an organization perform better. Explicitly relate your findings to business needs by recommending actions that you think the business (Microsoft) should take.\n",
    "\n",
    "* **Communicating about your work well is extremely important.** Your ability to provide value to an organization - or to land a job there - is directly reliant on your ability to communicate with them about what you have done and why it is valuable. Create a storyline your audience (the head of Microsoft's new movie studio) can follow by walking them through the steps of your process, highlighting the most important points and skipping over the rest.\n",
    "\n",
    "* **Use plenty of visualizations.** Visualizations are invaluable for exploring your data and making your findings accessible to a non-technical audience. Spotlight visuals in your presentation, but only ones that relate directly to your recommendations. Simple visuals are usually best (e.g. bar charts and line graphs), and don't forget to format them well (e.g. labels, titles).\n",
    "\n",
    "### Getting Started\n",
    "\n",
    "Please start by reviewing this assignment, the rubric at the bottom of it, and the \"Project Submission & Review\" page. If you have any questions, please ask your instructor ASAP.\n",
    "\n",
    "Next, we recommend you check out [the Phase 1 Project Templates and Examples repo](https://github.com/learn-co-curriculum/dsc-project-template) and use the MVP template for your project.\n",
    "\n",
    "Alternatively, you can fork [the Phase 1 Project Repository](https://github.com/learn-co-curriculum/dsc-phase-1-project), clone it locally, and work in the `student.ipynb` file. Make sure to also add and commit a PDF of your presentation to your repository with a file name of `presentation.pdf`.\n",
    "\n",
    "### Project Submission and Review\n",
    "\n",
    "Review the \"Project Submission & Review\" page in the \"Milestones Instructions\" topic to learn how to submit your project and how it will be reviewed. Your project must pass review for you to progress to the next Phase.\n",
    "\n",
    "### Summary\n",
    "\n",
    "This project will give you a valuable opportunity to develop your data science skills using real-world data. The end-of-phase projects are a critical part of the program because they give you a chance to bring together all the skills you've learned, apply them to realistic projects for a business stakeholder, practice communication skills, and get feedback to help you improve. You've got this!\n",
    "___"
   ]
  },
  {
   "cell_type": "markdown",
   "metadata": {},
   "source": [
    "# ⭐️General Project Tips & Advice \n"
   ]
  },
  {
   "cell_type": "markdown",
   "metadata": {},
   "source": [
    "## Getting Started"
   ]
  },
  {
   "cell_type": "markdown",
   "metadata": {},
   "source": [
    "1. **Primary project repo:**\n",
    "    - I recommend forking the dsc-phase-1-project repo to use as your project repo:\n",
    "        - Fork: https://github.com/learn-co-curriculum/dsc-phase-1-project\n",
    "            - Clone your fork. Do all of your work for the project inside this folder. \n",
    "            \n",
    "2. **Rename key files to prepare for merging with the template project:**\n",
    "    - Rename `README.md` -> `project_assignment.md` (or `original_README.md`)\n",
    "    - Either delete or rename \"`student.ipynb`\" -> \"`original_student.ipynb`\"\n",
    "        \n",
    "    \n",
    "3. **Downloading and adding the project-template files:**\n",
    "    - I recommend **downloading** the template repo branch of your choice. \n",
    "    - Go to: https://github.com/learn-co-curriculum/dsc-project-template/tree/template-mvp\n",
    "    - Make sure you are on the template branch, then:\n",
    "    - Click green \"`Code`\" button on github.com and select \"`Download Zip`\"\n",
    "    - Unzip the file (in your Downloads folder is fine). \n",
    "\n",
    "\n",
    "\n",
    "4. Now, **copy all of the non-hidden files from the unzipped folder to your cloned dsc-phase-1-project repo's folder.**\n",
    "    - do not copy the hidden files:\n",
    "        - `.git`\n",
    "        - `.gitignore`\n",
    "\n",
    "5. **After copying the files to your fork of the dsc-phase-1-project repo:**\n",
    "    - rename the `README.md` -> `how_to_use_the_template.md` (can eventually delete from final repo) \n",
    "    - rename `TEMPLATE_README.md` to `README.md`\n",
    "    - [ ] rename `dsc-phase1-project-template.ipynb` -> `student.ipynb`\n",
    "    \n",
    "6. **Open the newly renamed \"`student.ipynb`\" and get started!**\n",
    "___"
   ]
  },
  {
   "cell_type": "markdown",
   "metadata": {},
   "source": [
    "## Business Case/Stakeholder "
   ]
  },
  {
   "cell_type": "markdown",
   "metadata": {},
   "source": [
    "#### Put yourself in the shoes of your **stakeholders**\n",
    " * What do they want to know?\n",
    " * Is the information geared towards them (talking to non-data scientists)\n",
    " * You are providing **insights** which lead to **actionable items**\n",
    "   \n",
    "\n",
    "\n",
    "#### Emphasize your points with a narrative\n",
    "* We like stories: both technical & non-technical\n",
    "* Use visuals to emphasize your points (**explanatory visualizations**)\n",
    "* Each slide should contain a single idea (emphasizes what you say)"
   ]
  },
  {
   "cell_type": "markdown",
   "metadata": {},
   "source": [
    "## The Data"
   ]
  },
  {
   "cell_type": "markdown",
   "metadata": {},
   "source": [
    "- There are 11 different csv files provided in the zippedData folder. \n",
    "- Using these files is optional. \n",
    "\n",
    "\n"
   ]
  },
  {
   "cell_type": "markdown",
   "metadata": {},
   "source": [
    "### Approaches to consider:"
   ]
  },
  {
   "cell_type": "markdown",
   "metadata": {},
   "source": [
    "1. **Using the provided csv's and merging dataframes**\n",
    "2. Sourcing your own dataset using an API\n",
    "3. Sourcing your own dataset using Web Scraping.\n",
    "4. Supplementing 1 or more of the provided CSVs with data from an API.\n"
   ]
  },
  {
   "cell_type": "markdown",
   "metadata": {},
   "source": [
    "### Using the Provided Data - Join with Pandas"
   ]
  },
  {
   "cell_type": "markdown",
   "metadata": {},
   "source": [
    ">#### Questions to consider:\n",
    ">1. Where is the financial data?\n",
    ">2. What columns are primary keys/unique indices?\n",
    ">3. What tables could I join on what columns?"
   ]
  },
  {
   "cell_type": "markdown",
   "metadata": {},
   "source": [
    "### If you feel that you are behind on material"
   ]
  },
  {
   "cell_type": "markdown",
   "metadata": {},
   "source": [
    ">- Then limit yourself to using just the following 3 provided tables:\n",
    "    - imdb.title.basics\n",
    "    - imdb.title.ratings\n",
    "    - bom.movie_gross"
   ]
  },
  {
   "cell_type": "markdown",
   "metadata": {},
   "source": [
    "# 🚸 Walkthrough"
   ]
  },
  {
   "cell_type": "markdown",
   "metadata": {},
   "source": [
    "- [ ] Walkthrough the steps above\n",
    "- [ ] Write a loop to visualize a preview of all provided data files"
   ]
  },
  {
   "cell_type": "markdown",
   "metadata": {},
   "source": [
    "## Questions?"
   ]
  },
  {
   "cell_type": "markdown",
   "metadata": {},
   "source": [
    "- any questions or comments?"
   ]
  },
  {
   "cell_type": "code",
   "execution_count": null,
   "metadata": {},
   "outputs": [],
   "source": []
  }
 ],
 "metadata": {
  "kernelspec": {
   "display_name": "Python (learn-env)",
   "language": "python",
   "name": "learn-env"
  },
  "language_info": {
   "codemirror_mode": {
    "name": "ipython",
    "version": 3
   },
   "file_extension": ".py",
   "mimetype": "text/x-python",
   "name": "python",
   "nbconvert_exporter": "python",
   "pygments_lexer": "ipython3",
   "version": "3.8.5"
  },
  "toc": {
   "base_numbering": 1,
   "nav_menu": {},
   "number_sections": true,
   "sideBar": true,
   "skip_h1_title": false,
   "title_cell": "Table of Contents",
   "title_sidebar": "Contents",
   "toc_cell": false,
   "toc_position": {
    "height": "calc(100% - 180px)",
    "left": "10px",
    "top": "150px",
    "width": "256px"
   },
   "toc_section_display": true,
   "toc_window_display": true
  }
 },
 "nbformat": 4,
 "nbformat_minor": 4
}
